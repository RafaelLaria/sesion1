{
 "cells": [
  {
   "cell_type": "code",
   "execution_count": null,
   "id": "e0bbece3",
   "metadata": {},
   "outputs": [],
   "source": [
    "entero = 10\n",
    "decimal = 3.14\n",
    "texto = \"Hola mundo\"\n",
    "booleano = True\n",
    "lista = [1, 2, 3]\n",
    "diccionario = {\"clave\": \"valor\"}\n",
    "\n",
    "print(f\"entero: {entero} (tipo: {type(entero)})\")\n",
    "print(f\"decimal: {decimal} (tipo: {type(decimal)})\")\n",
    "print(f\"texto: {texto} (tipo: {type(texto)})\")\n",
    "print(f\"booleano: {booleano} (tipo: {type(booleano)})\")\n",
    "print(f\"lista: {lista} (tipo: {type(lista)})\")\n",
    "print(f\"diccionario: {diccionario} (tipo: {type(diccionario)})\")"
   ]
  },
  {
   "cell_type": "markdown",
   "id": "544c8f9c",
   "metadata": {},
   "source": [
    "Hola buenas tardes, qué tal"
   ]
  }
 ],
 "metadata": {
  "language_info": {
   "name": "python"
  }
 },
 "nbformat": 4,
 "nbformat_minor": 5
}
